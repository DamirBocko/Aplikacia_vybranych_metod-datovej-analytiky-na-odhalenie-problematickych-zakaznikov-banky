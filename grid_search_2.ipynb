{
 "cells": [
  {
   "cell_type": "code",
   "execution_count": 1,
   "metadata": {},
   "outputs": [],
   "source": [
    "# %%\n",
    "from mylibraries import *\n",
    "X_train = pd.read_csv('X_train_scaled.csv')\n",
    "X_test = pd.read_csv('X_test_scaled.csv')\n",
    "y_train = pd.read_csv('y_train.csv')\n",
    "y_test = pd.read_csv('y_test.csv')\n",
    "\n",
    "y_train = y_train.values.ravel()\n",
    "y_test = y_test.values.ravel()\n",
    "# Získanie názvov stĺpcov z pôvodného X_train\n",
    "column_names = X_train.columns"
   ]
  },
  {
   "cell_type": "code",
   "execution_count": 2,
   "metadata": {},
   "outputs": [
    {
     "name": "stderr",
     "output_type": "stream",
     "text": [
      "C:\\Users\\DELL\\AppData\\Local\\Packages\\PythonSoftwareFoundation.Python.3.11_qbz5n2kfra8p0\\LocalCache\\local-packages\\Python311\\site-packages\\sklearn\\model_selection\\_validation.py:547: FitFailedWarning: \n",
      "270 fits failed out of a total of 900.\n",
      "The score on these train-test partitions for these parameters will be set to nan.\n",
      "If these failures are not expected, you can try to debug them by setting error_score='raise'.\n",
      "\n",
      "Below are more details about the failures:\n",
      "--------------------------------------------------------------------------------\n",
      "90 fits failed with the following error:\n",
      "Traceback (most recent call last):\n",
      "  File \"C:\\Users\\DELL\\AppData\\Local\\Packages\\PythonSoftwareFoundation.Python.3.11_qbz5n2kfra8p0\\LocalCache\\local-packages\\Python311\\site-packages\\sklearn\\model_selection\\_validation.py\", line 895, in _fit_and_score\n",
      "    estimator.fit(X_train, y_train, **fit_params)\n",
      "  File \"C:\\Users\\DELL\\AppData\\Local\\Packages\\PythonSoftwareFoundation.Python.3.11_qbz5n2kfra8p0\\LocalCache\\local-packages\\Python311\\site-packages\\sklearn\\base.py\", line 1474, in wrapper\n",
      "    return fit_method(estimator, *args, **kwargs)\n",
      "           ^^^^^^^^^^^^^^^^^^^^^^^^^^^^^^^^^^^^^^\n",
      "  File \"C:\\Users\\DELL\\AppData\\Local\\Packages\\PythonSoftwareFoundation.Python.3.11_qbz5n2kfra8p0\\LocalCache\\local-packages\\Python311\\site-packages\\sklearn\\linear_model\\_logistic.py\", line 1172, in fit\n",
      "    solver = _check_solver(self.solver, self.penalty, self.dual)\n",
      "             ^^^^^^^^^^^^^^^^^^^^^^^^^^^^^^^^^^^^^^^^^^^^^^^^^^^\n",
      "  File \"C:\\Users\\DELL\\AppData\\Local\\Packages\\PythonSoftwareFoundation.Python.3.11_qbz5n2kfra8p0\\LocalCache\\local-packages\\Python311\\site-packages\\sklearn\\linear_model\\_logistic.py\", line 67, in _check_solver\n",
      "    raise ValueError(\n",
      "ValueError: Solver newton-cg supports only 'l2' or None penalties, got l1 penalty.\n",
      "\n",
      "--------------------------------------------------------------------------------\n",
      "90 fits failed with the following error:\n",
      "Traceback (most recent call last):\n",
      "  File \"C:\\Users\\DELL\\AppData\\Local\\Packages\\PythonSoftwareFoundation.Python.3.11_qbz5n2kfra8p0\\LocalCache\\local-packages\\Python311\\site-packages\\sklearn\\model_selection\\_validation.py\", line 895, in _fit_and_score\n",
      "    estimator.fit(X_train, y_train, **fit_params)\n",
      "  File \"C:\\Users\\DELL\\AppData\\Local\\Packages\\PythonSoftwareFoundation.Python.3.11_qbz5n2kfra8p0\\LocalCache\\local-packages\\Python311\\site-packages\\sklearn\\base.py\", line 1474, in wrapper\n",
      "    return fit_method(estimator, *args, **kwargs)\n",
      "           ^^^^^^^^^^^^^^^^^^^^^^^^^^^^^^^^^^^^^^\n",
      "  File \"C:\\Users\\DELL\\AppData\\Local\\Packages\\PythonSoftwareFoundation.Python.3.11_qbz5n2kfra8p0\\LocalCache\\local-packages\\Python311\\site-packages\\sklearn\\linear_model\\_logistic.py\", line 1172, in fit\n",
      "    solver = _check_solver(self.solver, self.penalty, self.dual)\n",
      "             ^^^^^^^^^^^^^^^^^^^^^^^^^^^^^^^^^^^^^^^^^^^^^^^^^^^\n",
      "  File \"C:\\Users\\DELL\\AppData\\Local\\Packages\\PythonSoftwareFoundation.Python.3.11_qbz5n2kfra8p0\\LocalCache\\local-packages\\Python311\\site-packages\\sklearn\\linear_model\\_logistic.py\", line 67, in _check_solver\n",
      "    raise ValueError(\n",
      "ValueError: Solver lbfgs supports only 'l2' or None penalties, got l1 penalty.\n",
      "\n",
      "--------------------------------------------------------------------------------\n",
      "90 fits failed with the following error:\n",
      "Traceback (most recent call last):\n",
      "  File \"C:\\Users\\DELL\\AppData\\Local\\Packages\\PythonSoftwareFoundation.Python.3.11_qbz5n2kfra8p0\\LocalCache\\local-packages\\Python311\\site-packages\\sklearn\\model_selection\\_validation.py\", line 895, in _fit_and_score\n",
      "    estimator.fit(X_train, y_train, **fit_params)\n",
      "  File \"C:\\Users\\DELL\\AppData\\Local\\Packages\\PythonSoftwareFoundation.Python.3.11_qbz5n2kfra8p0\\LocalCache\\local-packages\\Python311\\site-packages\\sklearn\\base.py\", line 1474, in wrapper\n",
      "    return fit_method(estimator, *args, **kwargs)\n",
      "           ^^^^^^^^^^^^^^^^^^^^^^^^^^^^^^^^^^^^^^\n",
      "  File \"C:\\Users\\DELL\\AppData\\Local\\Packages\\PythonSoftwareFoundation.Python.3.11_qbz5n2kfra8p0\\LocalCache\\local-packages\\Python311\\site-packages\\sklearn\\linear_model\\_logistic.py\", line 1172, in fit\n",
      "    solver = _check_solver(self.solver, self.penalty, self.dual)\n",
      "             ^^^^^^^^^^^^^^^^^^^^^^^^^^^^^^^^^^^^^^^^^^^^^^^^^^^\n",
      "  File \"C:\\Users\\DELL\\AppData\\Local\\Packages\\PythonSoftwareFoundation.Python.3.11_qbz5n2kfra8p0\\LocalCache\\local-packages\\Python311\\site-packages\\sklearn\\linear_model\\_logistic.py\", line 67, in _check_solver\n",
      "    raise ValueError(\n",
      "ValueError: Solver sag supports only 'l2' or None penalties, got l1 penalty.\n",
      "\n",
      "  warnings.warn(some_fits_failed_message, FitFailedWarning)\n",
      "C:\\Users\\DELL\\AppData\\Local\\Packages\\PythonSoftwareFoundation.Python.3.11_qbz5n2kfra8p0\\LocalCache\\local-packages\\Python311\\site-packages\\sklearn\\model_selection\\_search.py:1051: UserWarning: One or more of the test scores are non-finite: [       nan        nan 0.79648885        nan 0.80612641 0.82754358\n",
      " 0.82765066 0.82625858 0.82757035 0.82759713        nan        nan\n",
      " 0.79648885        nan 0.80631381 0.82754358 0.82765066 0.82625858\n",
      " 0.82757035 0.82757035        nan        nan 0.79648885        nan\n",
      " 0.80631381 0.82754358 0.82765066 0.82625858 0.82757035 0.82757035\n",
      "        nan        nan 0.83134529        nan 0.83236249 0.83835942\n",
      " 0.83833265 0.83723505 0.83720822 0.83570899        nan        nan\n",
      " 0.83137207        nan 0.83292472 0.83835942 0.83833265 0.83723505\n",
      " 0.83803816 0.83715468        nan        nan 0.83139884        nan\n",
      " 0.83263027 0.83835942 0.83833265 0.83723505 0.83830587 0.83750273\n",
      "        nan        nan 0.84432953        nan 0.83659246 0.84440983\n",
      " 0.84440983 0.84411535 0.83953735 0.8367531         nan        nan\n",
      " 0.84427599        nan 0.83905546 0.84440983 0.84440983 0.84411535\n",
      " 0.84151848 0.83945703        nan        nan 0.84432953        nan\n",
      " 0.84034051 0.84440983 0.84440983 0.84411535 0.84291061 0.84095628\n",
      "        nan        nan 0.84735469        nan 0.83686018 0.84652478\n",
      " 0.84639093 0.84644447 0.83980507 0.83694049        nan        nan\n",
      " 0.84740823        nan 0.83967121 0.84652478 0.84639093 0.84644447\n",
      " 0.84192006 0.83969798        nan        nan 0.84730114        nan\n",
      " 0.84117044 0.84652478 0.84639093 0.84644447 0.8432051  0.84106336\n",
      "        nan        nan 0.84783657        nan 0.83686018 0.84759563\n",
      " 0.84794365 0.8476224  0.83983184 0.83694049        nan        nan\n",
      " 0.84789011        nan 0.83967121 0.84759563 0.84772949 0.8476224\n",
      " 0.8419736  0.83967121        nan        nan 0.84789011        nan\n",
      " 0.84106336 0.84759563 0.84772949 0.8476224  0.84317833 0.84106336\n",
      "        nan        nan 0.84697989        nan 0.83694049 0.84780979\n",
      " 0.84791687 0.84778302 0.83983184 0.83688695        nan        nan\n",
      " 0.84778302        nan 0.83967121 0.84780979 0.84778303 0.84778302\n",
      " 0.8419736  0.83967121        nan        nan 0.84791688        nan\n",
      " 0.84106336 0.84780979 0.84778303 0.84778302 0.84315156 0.84106336]\n",
      "  warnings.warn(\n"
     ]
    },
    {
     "name": "stdout",
     "output_type": "stream",
     "text": [
      "Najlepšie parametre:\n",
      "{'C': 10.0, 'max_iter': 100, 'penalty': 'l2', 'solver': 'lbfgs'}\n",
      "Najlepšie skóre:\n",
      "0.8479436471626031\n"
     ]
    }
   ],
   "source": [
    "from sklearn.linear_model import LogisticRegression\n",
    "from sklearn.model_selection import GridSearchCV\n",
    "\n",
    "# Definovanie modelu LogisticRegression\n",
    "log_reg = LogisticRegression()\n",
    "\n",
    "# Definovanie parametrov pre GridSearchCV\n",
    "param_grid = {\n",
    "    'C': [0.001, 0.01, 0.1, 1.0, 10.0, 100.0],  # Regularizačný parameter\n",
    "    'penalty': ['l1', 'l2'],  # Typ regularizácie\n",
    "    'solver': ['newton-cg', 'lbfgs', 'liblinear', 'sag', 'saga'],  # Algoritmus pre optimalizáciu\n",
    "    'max_iter': [100, 200, 300]  # Maximálny počet iterácií\n",
    "}\n",
    "\n",
    "# Použitie GridSearchCV na nájdenie najlepších parametrov\n",
    "grid_search = GridSearchCV(estimator=log_reg, param_grid=param_grid, cv=5, scoring='accuracy', n_jobs=-1)\n",
    "grid_search.fit(X_train, y_train)\n",
    "\n",
    "# Výpis najlepších parametrov a najlepšieho skóre\n",
    "print(\"Najlepšie parametre:\")\n",
    "print(grid_search.best_params_)\n",
    "print(\"Najlepšie skóre:\")\n",
    "print(grid_search.best_score_)\n"
   ]
  },
  {
   "cell_type": "code",
   "execution_count": 3,
   "metadata": {},
   "outputs": [
    {
     "name": "stdout",
     "output_type": "stream",
     "text": [
      "Najlepšie parametre:\n",
      "{'C': 10.0, 'gamma': 'auto', 'kernel': 'rbf'}\n",
      "Najlepšie skóre:\n",
      "0.8525215411236701\n"
     ]
    }
   ],
   "source": [
    "from sklearn.svm import SVC\n",
    "from sklearn.model_selection import GridSearchCV\n",
    "\n",
    "# Definovanie modelu Support Vector Classifier\n",
    "svm = SVC()\n",
    "\n",
    "# Definovanie parametrov pre GridSearchCV\n",
    "param_grid = {\n",
    "    'C': [0.001, 0.01, 0.1, 1.0, 10.0, 100.0],  # Úprava parametrov C - regulizácia\n",
    "    'kernel': ['poly', 'rbf', 'sigmoid'],  # Typ jadra\n",
    "    'gamma': ['scale', 'auto'],  # Hodnota gama pre 'rbf', 'poly' a 'sigmoid' jadrá\n",
    "\n",
    "}\n",
    "\n",
    "# Použitie GridSearchCV na nájdenie najlepších parametrov\n",
    "grid_search = GridSearchCV(estimator=svm, param_grid=param_grid, cv=5, scoring='accuracy', n_jobs=-1)\n",
    "grid_search.fit(X_train, y_train)\n",
    "\n",
    "# Výpis najlepších parametrov a najlepšieho skóre\n",
    "print(\"Najlepšie parametre:\")\n",
    "print(grid_search.best_params_)\n",
    "print(\"Najlepšie skóre:\")\n",
    "print(grid_search.best_score_)"
   ]
  },
  {
   "cell_type": "code",
   "execution_count": 4,
   "metadata": {},
   "outputs": [
    {
     "name": "stdout",
     "output_type": "stream",
     "text": [
      "Najlepšie parametre:\n",
      "{'metric': 'manhattan', 'n_neighbors': 9, 'weights': 'distance'}\n",
      "Najlepšie skóre:\n",
      "0.8471665450899211\n"
     ]
    }
   ],
   "source": [
    "from sklearn.neighbors import KNeighborsClassifier\n",
    "from sklearn.model_selection import GridSearchCV\n",
    "\n",
    "# Definovanie modelu K-Nearest Neighbors\n",
    "knn = KNeighborsClassifier()\n",
    "\n",
    "# Definovanie parametrov pre GridSearchCV\n",
    "param_grid = {\n",
    "    'n_neighbors': [3, 5, 7, 9],\n",
    "    'weights': ['uniform', 'distance'],\n",
    "    'metric': ['euclidean', 'manhattan']\n",
    "}\n",
    "\n",
    "# Použitie GridSearchCV na nájdenie najlepších parametrov\n",
    "grid_search = GridSearchCV(estimator=knn, param_grid=param_grid, cv=5, scoring='accuracy', n_jobs=-1)\n",
    "grid_search.fit(X_train, y_train)\n",
    "\n",
    "# Výpis najlepších parametrov a najlepšieho skóre\n",
    "print(\"Najlepšie parametre:\")\n",
    "print(grid_search.best_params_)\n",
    "print(\"Najlepšie skóre:\")\n",
    "print(grid_search.best_score_)"
   ]
  },
  {
   "cell_type": "code",
   "execution_count": 5,
   "metadata": {},
   "outputs": [
    {
     "name": "stdout",
     "output_type": "stream",
     "text": [
      "Najlepšie parametre:\n",
      "{'gamma': 0.1, 'learning_rate': 0.1, 'max_depth': 7, 'min_child_weight': 3, 'n_estimators': 200}\n",
      "Najlepšie skóre:\n",
      "0.8529765015534408\n"
     ]
    }
   ],
   "source": [
    "from xgboost import XGBClassifier\n",
    "from sklearn.model_selection import GridSearchCV\n",
    "\n",
    "# Definovanie modelu XGBoost Classifier\n",
    "xgb = XGBClassifier()\n",
    "\n",
    "# Definovanie parametrov pre GridSearchCV\n",
    "param_grid = {\n",
    "    'n_estimators': [50, 100, 200],\n",
    "    'learning_rate': [0.01, 0.1, 1, 10],\n",
    "    'max_depth': [3, 5, 7],\n",
    "    'min_child_weight': [1, 3, 5],\n",
    "    'gamma': [0, 0.1, 0.2]\n",
    "}\n",
    "\n",
    "# Použitie GridSearchCV na nájdenie najlepších parametrov\n",
    "grid_search = GridSearchCV(estimator=xgb, param_grid=param_grid, cv=5, scoring='accuracy', n_jobs=-1)\n",
    "grid_search.fit(X_train, y_train)\n",
    "\n",
    "# Výpis najlepších parametrov a najlepšieho skóre\n",
    "print(\"Najlepšie parametre:\")\n",
    "print(grid_search.best_params_)\n",
    "print(\"Najlepšie skóre:\")\n",
    "print(grid_search.best_score_)\n"
   ]
  },
  {
   "cell_type": "code",
   "execution_count": null,
   "metadata": {},
   "outputs": [],
   "source": []
  }
 ],
 "metadata": {
  "kernelspec": {
   "display_name": "Python 3",
   "language": "python",
   "name": "python3"
  },
  "language_info": {
   "codemirror_mode": {
    "name": "ipython",
    "version": 3
   },
   "file_extension": ".py",
   "mimetype": "text/x-python",
   "name": "python",
   "nbconvert_exporter": "python",
   "pygments_lexer": "ipython3",
   "version": "3.11.9"
  }
 },
 "nbformat": 4,
 "nbformat_minor": 2
}
