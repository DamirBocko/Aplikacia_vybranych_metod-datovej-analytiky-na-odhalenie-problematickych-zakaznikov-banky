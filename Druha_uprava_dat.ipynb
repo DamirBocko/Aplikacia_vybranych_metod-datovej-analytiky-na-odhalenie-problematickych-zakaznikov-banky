{
 "cells": [
  {
   "cell_type": "code",
   "execution_count": null,
   "metadata": {},
   "outputs": [],
   "source": [
    "#Import základných knižníc\n",
    "from mylibraries import *\n",
    "\n",
    "#Načítanie datasetu do premennej df\n",
    "df = pd.read_csv('UCI_Credit_Card.csv')\n",
    "\n",
    "#Nahradenie chýbajúcich hodnôt pomocou metódy fillna\n",
    "df.fillna(df.mean(), inplace=True)  # Nahradíme chýbajúce hodnoty priemerom\n",
    "\n",
    "#Premenovanie atributu na kratsi nazov\n",
    "df = df.rename(columns={'default.payment.next.month': 'def_pay'})\n",
    "\n",
    "#Premenovanie atributu PAY_0 na PAY_1\n",
    "df = df.rename(columns={'PAY_0': 'PAY_1'})\n",
    "\n",
    "#Spojime hodnoty vzdelania 0, 5 a 6 do kategorie 4: other\n",
    "df['EDUCATION'] = df['EDUCATION'].replace({0: 4, 5: 4, 6: 4})\n",
    "\n",
    "#Spojime hodnoty marriage z 0 do kategorie 3: other\n",
    "df['MARRIAGE'] = df['MARRIAGE'].replace({0: 3})\n",
    "\n",
    "#Premenovanie atributu PAY_0 na PAY_1\n",
    "df = df.rename(columns={'PAY_0': 'PAY_1'})\n",
    "\n",
    "df = df.drop(columns=['ID'])\n",
    "\n",
    "#Label-encoding pre atribut SEX\n",
    "from sklearn.preprocessing import LabelEncoder\n",
    "\n",
    "label_encoder = LabelEncoder()\n",
    "df['SEX'] = label_encoder.fit_transform(df['SEX'])\n",
    "\n",
    "# %%\n",
    "pd.set_option('display.max_columns', 25)\n",
    "df.head(5)\n"
   ]
  },
  {
   "cell_type": "code",
   "execution_count": null,
   "metadata": {},
   "outputs": [],
   "source": [
    "\n",
    "#vytvorim si novu premennu pre vsetky platby a pre nesplatene platby\n",
    "df['pays'] = df['PAY_1'] + df['PAY_2'] + df['PAY_3'] + df['PAY_4'] + df['PAY_5'] + df['PAY_6']\n",
    "\n",
    "#vytvorim si novu premennu pre vsetky hodnoty amounts\n",
    "df['bills'] = df['BILL_AMT1'] + df['BILL_AMT2'] + df['BILL_AMT3'] + df['BILL_AMT4'] + df['BILL_AMT5'] + df['BILL_AMT6'] - df['PAY_AMT1'] + df['PAY_AMT2'] + df['PAY_AMT3'] + df['PAY_AMT4'] + df['PAY_AMT5'] + df['PAY_AMT6']\n",
    "\n",
    "\n",
    "#aplikujeme one-hot encoding na education a marriage\n",
    "df = pd.get_dummies(df, columns=['EDUCATION', 'MARRIAGE'])\n",
    "\n",
    "#odstranime atributy education_ine a marriage_ine\n",
    "df.drop(['EDUCATION_3','MARRIAGE_3'],axis = 1, inplace = True)\n",
    "\n",
    "#one-hot encoding na atributy pay_1-pay_6\n",
    "df = pd.get_dummies(df, columns = ['PAY_1',\t'PAY_2',\t'PAY_3',\t'PAY_4',\t'PAY_5',\t'PAY_6'], drop_first = True )"
   ]
  },
  {
   "cell_type": "code",
   "execution_count": null,
   "metadata": {},
   "outputs": [],
   "source": [
    "df.head()"
   ]
  },
  {
   "cell_type": "code",
   "execution_count": null,
   "metadata": {},
   "outputs": [],
   "source": [
    "X = df.drop(columns=['def_pay']) \n",
    "y = df['def_pay']  \n",
    "\n",
    "# Rozdelenie dát na trénovaciu a testovaciu množinu\n",
    "from sklearn.model_selection import train_test_split\n",
    "X_train, X_test, y_train, y_test = train_test_split(X, y, test_size=0.2, random_state=42)\n",
    "\n",
    "# Rozdelenie dát na trénovaciu a testovaciu množinu\n",
    "from sklearn.model_selection import train_test_split\n",
    "X_train, X_test, y_train, y_test = train_test_split(X, y, test_size=0.2, random_state=42)\n",
    "\n",
    "# Použitie SMOTE na vyváženie trénovacej množiny\n",
    "from imblearn.over_sampling import SMOTE\n",
    "smote = SMOTE(random_state=42)\n",
    "X_train_smote, y_train_smote = smote.fit_resample(X_train, y_train)\n",
    "\n",
    "# Štandardizácia dát\n",
    "from sklearn.preprocessing import StandardScaler\n",
    "scaler = StandardScaler()\n",
    "X_train_scaled = scaler.fit_transform(X_train_smote)\n",
    "X_test_scaled = scaler.transform(X_test)\n"
   ]
  },
  {
   "cell_type": "code",
   "execution_count": null,
   "metadata": {},
   "outputs": [],
   "source": [
    "# Prevod numpy.ndarray na pandas.DataFrame\n",
    "X_train_df = pd.DataFrame(X_train_smote, columns=X.columns)\n",
    "X_test_df = pd.DataFrame(X_test, columns=X.columns)\n",
    "X_train_scaled_df = pd.DataFrame(X_train_scaled, columns=X.columns)\n",
    "X_test_scaled_df = pd.DataFrame(X_test_scaled, columns=X.columns)\n",
    "# Prevod y_train a y_test na pandas.Series\n",
    "y_train = pd.Series(y_train_smote.values.ravel(), name='def_pay')\n",
    "y_test = pd.Series(y_test.values.ravel(), name='def_pay')\n",
    "\n",
    "\n",
    "# Uloženie do CSV súboru\n",
    "X_train_df.to_csv('X_train.csv', index=False)\n",
    "X_test_df.to_csv('X_test.csv', index=False)\n",
    "X_train_scaled_df.to_csv('X_train_scaled.csv', index=False)\n",
    "X_test_scaled_df.to_csv('X_test_scaled.csv', index=False)\n",
    "y_train.to_csv('y_train.csv', index=False)\n",
    "y_test.to_csv('y_test.csv', index=False)"
   ]
  },
  {
   "cell_type": "code",
   "execution_count": null,
   "metadata": {},
   "outputs": [],
   "source": []
  },
  {
   "cell_type": "code",
   "execution_count": null,
   "metadata": {},
   "outputs": [],
   "source": []
  }
 ],
 "metadata": {
  "kernelspec": {
   "display_name": "Python 3",
   "language": "python",
   "name": "python3"
  },
  "language_info": {
   "codemirror_mode": {
    "name": "ipython",
    "version": 3
   },
   "file_extension": ".py",
   "mimetype": "text/x-python",
   "name": "python",
   "nbconvert_exporter": "python",
   "pygments_lexer": "ipython3",
   "version": "3.11.9"
  }
 },
 "nbformat": 4,
 "nbformat_minor": 2
}
