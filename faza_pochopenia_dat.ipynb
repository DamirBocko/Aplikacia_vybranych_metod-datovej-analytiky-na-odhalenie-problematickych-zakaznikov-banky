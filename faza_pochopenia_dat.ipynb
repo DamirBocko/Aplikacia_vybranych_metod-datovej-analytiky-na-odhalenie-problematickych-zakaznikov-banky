{
 "cells": [
  {
   "cell_type": "code",
   "execution_count": null,
   "metadata": {
    "collapsed": true
   },
   "outputs": [],
   "source": [
    "#import kniznic\n",
    "from mylibraries import *"
   ]
  },
  {
   "cell_type": "code",
   "execution_count": null,
   "metadata": {
    "collapsed": false
   },
   "outputs": [],
   "source": [
    "#Nacitanie datasetu do premennej df\n",
    "df = pd.read_csv('UCI_Credit_Card.csv')"
   ]
  },
  {
   "cell_type": "code",
   "execution_count": null,
   "metadata": {},
   "outputs": [],
   "source": [
    "#nastavenie zobrazenie vsetkych 25 atributov v tabulke\n",
    "pd.set_option('display.max_columns', 25)\n",
    "\n",
    "#vypisanie hlavicky tabulky\n",
    "df.head(15)"
   ]
  },
  {
   "cell_type": "code",
   "execution_count": null,
   "metadata": {
    "collapsed": false
   },
   "outputs": [],
   "source": [
    "#3 Tabulka s prehladom datasetu\n",
    "\n",
    "#vlastne popisy pre jednotlive atributy\n",
    "attribute_descriptions = {\n",
    "    \"ID\": \"ID klienta\",\n",
    "    \"LIMIT_BAL\": \"Výška poskytnutého úveru v taiwanskych dolaroch\",\n",
    "    \"SEX\": \"Pohlavie (1=muz, 2=zena)\",\n",
    "    \"EDUCATION\": \"1=vysoka skola, 2=univerzita, 3=stredna skola, 4=ine, 5=nezname, 6=nezname\",\n",
    "    \"MARRIAGE\": \"Rodinný stav (1=ženatý, 2=slobodný, 3=iný)\",\n",
    "    \"AGE\": \"Vek v rokoch\",\n",
    "    \"PAY_0\": \"Stav splácania v septembri 2005 (-1=splácanie riadne, 1=odklad splácania o jeden mesiac, 2=odklad splácania o dva mesiace, ... 8=odklad splácania o osem mesiacov, 9=odklad splácania o deväť mesiacov a viac)\",\n",
    "    \"PAY_2\": \"Stav splácania v auguste 2005 - rovnaká stupnica ako PAY_0 (taiwansky dolár)\",\n",
    "    \"PAY_3\": \"Stav splácania v juli 2005 - rovnaká stupnica ako PAY_0 (taiwansky dolár)\",\n",
    "    \"PAY_4\": \"Stav splácania v juni 2005 - rovnaká stupnica ako PAY_0 (taiwansky dolár)\",\n",
    "    \"PAY_5\": \"Stav splácania v maji 2005 - rovnaká stupnica ako PAY_0 (taiwansky dolár)\",\n",
    "    \"PAY_6\": \"Stav splácania v april 2005 - rovnaká stupnica ako PAY_0 (taiwansky dolár)\",\n",
    "    \"BILL_AMT1\": \"Výpis faktúry v septembri 2005 (taiwansky dolár)\",\n",
    "    \"BILL_AMT2\": \"Výpis faktúry v august 2005 (taiwansky dolár)\",\n",
    "    \"BILL_AMT3\": \"Výpis faktúry v juli 2005 (taiwansky dolár)\",\n",
    "    \"BILL_AMT4\": \"Výpis faktúry v juni 2005 (taiwansky dolár)\",\n",
    "    \"BILL_AMT5\": \"Výpis faktúry v maji 2005 (taiwansky dolár)\",\n",
    "    \"BILL_AMT6\": \"Výpis faktúry v april 2005 (taiwansky dolár)\",\n",
    "    \"PAY_AMT1\": \"Suma predchádzajúcej platby v septembri 2005 (taiwansky dolár)\",\n",
    "    \"PAY_AMT2\": \"Suma predchádzajúcej platby v auguste 2005 (taiwansky dolár)\",\n",
    "    \"PAY_AMT3\": \"Suma predchádzajúcej platby v juli 2005 (taiwansky dolár)\",\n",
    "    \"PAY_AMT4\": \"Suma predchádzajúcej platby v juni 2005 (taiwansky dolár)\",\n",
    "    \"PAY_AMT5\": \"Suma predchádzajúcej platby v maji 2005 (taiwansky dolár)\",\n",
    "    \"PAY_AMT6\": \"Suma predchádzajúcej platby v april 2005 (taiwansky dolár)\",\n",
    "    \"default.payment.next.month\": \"Predvolená platba (1=áno, 0=nie)\",\n",
    "}\n",
    "\n",
    "# Vytvorenie tabulky s prehladom datasetu\n",
    "table_data = []\n",
    "for attribute in df.columns:\n",
    "    attribute_type = str(df.dtypes[attribute])\n",
    "    attribute_description = attribute_descriptions.get(attribute, \"\")\n",
    "    table_data.append([attribute, attribute_description, attribute_type])\n",
    "headers = [\"Atribut\", \"Popis\", \"Datovy typ\"]\n",
    "table = tabulate.tabulate(table_data, headers=headers, tablefmt=\"pretty\")\n",
    "print(table)"
   ]
  },
  {
   "cell_type": "code",
   "execution_count": null,
   "metadata": {
    "collapsed": false
   },
   "outputs": [],
   "source": [
    "#4 Vypísanie druheho zaznamu z datasetu\n",
    "df.iloc[2]"
   ]
  },
  {
   "cell_type": "code",
   "execution_count": null,
   "metadata": {},
   "outputs": [],
   "source": [
    "#5 Deskriptívna štatistika\n",
    "summary = df.describe()\n",
    "summary"
   ]
  },
  {
   "cell_type": "code",
   "execution_count": null,
   "metadata": {},
   "outputs": [],
   "source": [
    "#Doplnujuce info s poctom chybajucich hodnot pre jednotlive atributy | podobne ako pouzitie is.null().sum()\n",
    "df.info()"
   ]
  },
  {
   "cell_type": "code",
   "execution_count": null,
   "metadata": {},
   "outputs": [],
   "source": [
    "#Vytvorenie grafu\n",
    "plt.figure(figsize=(10, 5))\n",
    "\n",
    "#Vizualizácie cieľovej premennej rozdelenie na cervenu neplatici a zelenu platici\n",
    "sns.countplot(x='default.payment.next.month', data=df, palette=[\"lightpink\", \"lightgreen\"])\n",
    "plt.ylabel('Počet')\n",
    "\n",
    "plt.show()"
   ]
  },
  {
   "cell_type": "code",
   "execution_count": null,
   "metadata": {
    "collapsed": false
   },
   "outputs": [],
   "source": [
    "#Skúmanie distribúcie premenných\n",
    "import seaborn as sns\n",
    "plt.figure(figsize=(10, 6))\n",
    "sns.histplot(df['LIMIT_BAL'], bins=30, kde=True)\n",
    "plt.title('Rozloženie hodnôt LIMIT_BAL')\n",
    "plt.xlabel('Limit karty')\n",
    "plt.ylabel('Počet klientov')\n",
    "plt.show()"
   ]
  },
  {
   "cell_type": "code",
   "execution_count": null,
   "metadata": {},
   "outputs": [],
   "source": [
    "#Nahradenie ciselnych hodnot za kategoricke v df pre dalsiu pracu\n",
    "df.replace({'SEX': {1 : 'Muži', 2 : 'Ženy'}}, inplace=True)\n",
    "df['EDUCATION'] = df['EDUCATION'].replace({4: 'Ostatné', 5: 'Ostatné', 6: 'Ostatné', 0: 'Ostatné'})\n",
    "df.replace({'EDUCATION': {1 : 'Postgraduál', 2 : 'Univerzita', 3 : 'Stredná škola'}}, inplace=True)\n",
    "df['MARRIAGE'] = df['MARRIAGE'].replace({0: 'Ostatné', 3: 'Ostatné'})\n",
    "df.replace({'MARRIAGE': {1 : 'Zadaní', 2 : 'Slobodní'}}, inplace=True)"
   ]
  },
  {
   "cell_type": "code",
   "execution_count": null,
   "metadata": {},
   "outputs": [],
   "source": [
    "# Premenovanie stĺpcov\n",
    "df = df.rename(columns={'SEX': 'Pohlavie', 'EDUCATION': 'Vzdelanie', 'MARRIAGE': 'Manželstvo', 'AGE': 'Vek'})\n"
   ]
  },
  {
   "cell_type": "code",
   "execution_count": null,
   "metadata": {},
   "outputs": [],
   "source": [
    "#Ulozenie kategorickych atributov do premennej df_cat\n",
    "categorical_features = ['Pohlavie', 'Vzdelanie', 'Manželstvo']\n",
    "df_cat = df[categorical_features]\n",
    "df_cat['default.payment.next.month'] = df['default.payment.next.month']\n",
    "\n",
    "\n",
    "\n",
    "for col in categorical_features:\n",
    "    plt.figure(figsize=(10, 5))\n",
    "    fig, axes = plt.subplots(ncols=2, figsize=(13, 8))\n",
    "    df[col].value_counts().plot(kind=\"pie\", ax=axes[0], subplots=True, colors=[\"lightgreen\", \"lightcoral\", \"lightblue\", \"lightpink\"])\n",
    "    sns.countplot(x=col, hue='default.payment.next.month', data=df_cat, palette=[\"lightblue\", \"lightgreen\"])"
   ]
  },
  {
   "cell_type": "code",
   "execution_count": null,
   "metadata": {},
   "outputs": [],
   "source": [
    "#Vizualizácia dát vzťahov medzi vzdelaním a vekom\n",
    "plt.figure(figsize=(12, 6))\n",
    "sns.boxplot(x='Vzdelanie', y='Vek', data=df)\n",
    "plt.title('Vzťah medzi úrovňou vzdelania a vekom')\n",
    "plt.xlabel('Úroveň vzdelania')\n",
    "plt.ylabel('Vek')\n",
    "plt.show()"
   ]
  },
  {
   "cell_type": "code",
   "execution_count": null,
   "metadata": {},
   "outputs": [],
   "source": [
    "#Porovnanie pocenosti veku\n",
    "age_count = df['Vek'].value_counts().nlargest(10)\n",
    "print(age_count)\n",
    "\n",
    "#10 najpocetejsich vekov"
   ]
  },
  {
   "cell_type": "code",
   "execution_count": null,
   "metadata": {},
   "outputs": [],
   "source": [
    "#Porovnanie pocenosti pohlavia\n",
    "age_count = df['Pohlavie'].value_counts().nlargest(2)\n",
    "print(age_count)\n",
    "\n",
    "#zeny = 2, muzi = 1 "
   ]
  },
  {
   "cell_type": "code",
   "execution_count": null,
   "metadata": {},
   "outputs": [],
   "source": [
    "#Porovnanie pocenosti vzdelania\n",
    "edu_count = df['Vzdelanie'].value_counts().nlargest(7)\n",
    "print(edu_count)"
   ]
  },
  {
   "cell_type": "code",
   "execution_count": null,
   "metadata": {},
   "outputs": [],
   "source": [
    "# Vytvorenie kontingenčnej tabuľky\n",
    "contingency_table = pd.crosstab(df['Vzdelanie'], df['default.payment.next.month'])\n",
    "\n",
    "# Výpis kontingenčnej tabuľky\n",
    "print(contingency_table)"
   ]
  },
  {
   "cell_type": "code",
   "execution_count": null,
   "metadata": {},
   "outputs": [],
   "source": []
  }
 ],
 "metadata": {
  "kernelspec": {
   "display_name": "Python 3",
   "language": "python",
   "name": "python3"
  },
  "language_info": {
   "codemirror_mode": {
    "name": "ipython",
    "version": 3
   },
   "file_extension": ".py",
   "mimetype": "text/x-python",
   "name": "python",
   "nbconvert_exporter": "python",
   "pygments_lexer": "ipython3",
   "version": "3.11.9"
  }
 },
 "nbformat": 4,
 "nbformat_minor": 0
}
